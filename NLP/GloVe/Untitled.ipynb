{
 "cells": [
  {
   "cell_type": "code",
   "execution_count": 2,
   "id": "44287af8-b88d-464f-8493-200f4445db2c",
   "metadata": {},
   "outputs": [],
   "source": [
    "import nltk \n",
    "import random\n",
    "import numpy as np\n",
    "from nltk.tokenize import word_tokenize\n",
    "import string\n",
    "import re\n",
    "from nltk.corpus import stopwords"
   ]
  },
  {
   "cell_type": "code",
   "execution_count": 3,
   "id": "db904b72-9ac8-44db-8ea4-7bd5510fa94f",
   "metadata": {},
   "outputs": [
    {
     "name": "stderr",
     "output_type": "stream",
     "text": [
      "[nltk_data] Downloading package punkt to\n",
      "[nltk_data]     /home/omkarjadhav/nltk_data...\n",
      "[nltk_data]   Package punkt is already up-to-date!\n",
      "[nltk_data] Downloading package stopwords to\n",
      "[nltk_data]     /home/omkarjadhav/nltk_data...\n",
      "[nltk_data]   Package stopwords is already up-to-date!\n"
     ]
    },
    {
     "data": {
      "text/plain": [
       "True"
      ]
     },
     "execution_count": 3,
     "metadata": {},
     "output_type": "execute_result"
    }
   ],
   "source": [
    "nltk.download(\"punkt\")\n",
    "nltk.download(\"stopwords\")"
   ]
  },
  {
   "cell_type": "code",
   "execution_count": 4,
   "id": "e291728e-0d68-4e23-85fb-64ca1efe521f",
   "metadata": {},
   "outputs": [
    {
     "name": "stdout",
     "output_type": "stream",
     "text": [
      "Loaded 400000 word vectors.\n"
     ]
    }
   ],
   "source": [
    "# Load GloVe word embeddings\n",
    "def load_glove_embeddings(file_path):\n",
    "    embeddings_index = {}\n",
    "    with open(file_path, 'r', encoding='utf-8') as f:\n",
    "        for line in f:\n",
    "            values = line.split()\n",
    "            word = values[0]\n",
    "            vector = np.asarray(values[1:], dtype='float32')\n",
    "            embeddings_index[word] = vector\n",
    "    return embeddings_index\n",
    "\n",
    "# Replace with the correct path on your machine\n",
    "glove_path = \"./glove.6B.100d.txt\"\n",
    "glove_embeddings = load_glove_embeddings(glove_path)\n",
    "\n",
    "print(f\"Loaded {len(glove_embeddings)} word vectors.\")\n"
   ]
  },
  {
   "cell_type": "code",
   "execution_count": 5,
   "id": "177b0306-c963-4ea2-907a-66c55b4415f0",
   "metadata": {},
   "outputs": [],
   "source": [
    "def get_review_vector(review, glove_embeddings, embedding_dim=100):\n",
    "    review = review.lower()\n",
    "    review = re.sub(f\"[{re.escape(string.punctuation)}]\", \"\", review)\n",
    "\n",
    "    words = word_tokenize(review)\n",
    "\n",
    "    stop_words = set(stopwords.words(\"english\"))\n",
    "    words = [w for w in words if not w in stop_words]\n",
    "    \n",
    "    word_vectors = [glove_embeddings[word] for word in words if word in glove_embeddings]\n",
    "    # print(\"\\n\\n word_vectors: \", word_vectors)\n",
    "\n",
    "    if not word_vectors:\n",
    "        return np.zeros(embedding_dim)\n",
    "    # print(len(np.mean(word_vectors, axis=0)))\n",
    "    # print(\"mean: \", np.mean(word_vectors, axis=0))\n",
    "    return np.mean(word_vectors, axis=0)\n"
   ]
  },
  {
   "cell_type": "code",
   "execution_count": null,
   "id": "1f899004-f278-4fe0-bfa8-b7c34a149654",
   "metadata": {},
   "outputs": [],
   "source": []
  },
  {
   "cell_type": "markdown",
   "id": "ed571b48-7a3d-4ad5-a8d0-c647fcc9ebe7",
   "metadata": {},
   "source": [
    "### Model Training"
   ]
  },
  {
   "cell_type": "code",
   "execution_count": 6,
   "id": "97aca1d1-629b-4d60-91b5-42b51272137e",
   "metadata": {},
   "outputs": [],
   "source": [
    "from nltk.corpus import movie_reviews\n",
    "import random\n",
    "import pandas as pd\n",
    "\n",
    "# Prepare dataset\n",
    "documents = [(movie_reviews.raw(fileid), category)\n",
    "             for category in movie_reviews.categories()\n",
    "             for fileid in movie_reviews.fileids(category)]\n",
    "\n",
    "random.shuffle(documents)\n",
    "\n",
    "# Convert to DataFrame\n",
    "df = pd.DataFrame(documents, columns=['text', 'label'])\n",
    "df[\"vector\"] = df[\"text\"].apply(lambda x: get_review_vector(x, glove_embeddings))"
   ]
  },
  {
   "cell_type": "code",
   "execution_count": 7,
   "id": "f24e4f50-5369-4164-a931-2c7c2f08105c",
   "metadata": {},
   "outputs": [
    {
     "data": {
      "text/html": [
       "<div>\n",
       "<style scoped>\n",
       "    .dataframe tbody tr th:only-of-type {\n",
       "        vertical-align: middle;\n",
       "    }\n",
       "\n",
       "    .dataframe tbody tr th {\n",
       "        vertical-align: top;\n",
       "    }\n",
       "\n",
       "    .dataframe thead th {\n",
       "        text-align: right;\n",
       "    }\n",
       "</style>\n",
       "<table border=\"1\" class=\"dataframe\">\n",
       "  <thead>\n",
       "    <tr style=\"text-align: right;\">\n",
       "      <th></th>\n",
       "      <th>text</th>\n",
       "      <th>label</th>\n",
       "      <th>vector</th>\n",
       "    </tr>\n",
       "  </thead>\n",
       "  <tbody>\n",
       "    <tr>\n",
       "      <th>0</th>\n",
       "      <td>armageddon , in itself , symbolizes everything...</td>\n",
       "      <td>pos</td>\n",
       "      <td>[-0.019514998, 0.2530898, 0.3066087, -0.257927...</td>\n",
       "    </tr>\n",
       "    <tr>\n",
       "      <th>1</th>\n",
       "      <td>anastasia contains something that has been lac...</td>\n",
       "      <td>pos</td>\n",
       "      <td>[0.02257081, 0.22111125, 0.30900228, -0.128211...</td>\n",
       "    </tr>\n",
       "    <tr>\n",
       "      <th>2</th>\n",
       "      <td>seen at : amc old pasadena 8 , pasadena , ca (...</td>\n",
       "      <td>neg</td>\n",
       "      <td>[-0.029053003, 0.13240016, 0.29211634, -0.1305...</td>\n",
       "    </tr>\n",
       "    <tr>\n",
       "      <th>3</th>\n",
       "      <td>capsule : five friends at a stag party are inv...</td>\n",
       "      <td>neg</td>\n",
       "      <td>[0.030033395, 0.12874076, 0.26184192, -0.22171...</td>\n",
       "    </tr>\n",
       "    <tr>\n",
       "      <th>4</th>\n",
       "      <td>the marvelous british actor derek jacobi stars...</td>\n",
       "      <td>neg</td>\n",
       "      <td>[-0.0025800485, 0.19706295, 0.2026982, -0.1328...</td>\n",
       "    </tr>\n",
       "  </tbody>\n",
       "</table>\n",
       "</div>"
      ],
      "text/plain": [
       "                                                text label  \\\n",
       "0  armageddon , in itself , symbolizes everything...   pos   \n",
       "1  anastasia contains something that has been lac...   pos   \n",
       "2  seen at : amc old pasadena 8 , pasadena , ca (...   neg   \n",
       "3  capsule : five friends at a stag party are inv...   neg   \n",
       "4  the marvelous british actor derek jacobi stars...   neg   \n",
       "\n",
       "                                              vector  \n",
       "0  [-0.019514998, 0.2530898, 0.3066087, -0.257927...  \n",
       "1  [0.02257081, 0.22111125, 0.30900228, -0.128211...  \n",
       "2  [-0.029053003, 0.13240016, 0.29211634, -0.1305...  \n",
       "3  [0.030033395, 0.12874076, 0.26184192, -0.22171...  \n",
       "4  [-0.0025800485, 0.19706295, 0.2026982, -0.1328...  "
      ]
     },
     "execution_count": 7,
     "metadata": {},
     "output_type": "execute_result"
    }
   ],
   "source": [
    "df.head()"
   ]
  },
  {
   "cell_type": "code",
   "execution_count": 8,
   "id": "298587c3-5230-4374-b8c7-17e7fd255da0",
   "metadata": {},
   "outputs": [
    {
     "name": "stdout",
     "output_type": "stream",
     "text": [
      "Accuracy:  0.722\n",
      "Classification report: \n",
      "               precision    recall  f1-score   support\n",
      "\n",
      "         neg       0.71      0.74      0.73       501\n",
      "         pos       0.73      0.70      0.72       499\n",
      "\n",
      "    accuracy                           0.72      1000\n",
      "   macro avg       0.72      0.72      0.72      1000\n",
      "weighted avg       0.72      0.72      0.72      1000\n",
      "\n"
     ]
    }
   ],
   "source": [
    "from sklearn.model_selection import train_test_split\n",
    "from sklearn.linear_model import LogisticRegression\n",
    "from sklearn.metrics import accuracy_score, classification_report\n",
    "\n",
    "x = np.stack(df[\"vector\"].values)\n",
    "y = df[\"label\"].values\n",
    "\n",
    "x_train, x_test, y_train, y_test = train_test_split(x, y, test_size=0.5, random_state=42)\n",
    "\n",
    "# Initiate the model\n",
    "model = LogisticRegression(max_iter=1000)\n",
    "model.fit(x_train, y_train)\n",
    "\n",
    "# # Predict and Evaluate\n",
    "y_pred = model.predict(x_test)\n",
    "\n",
    "print(\"Accuracy: \", accuracy_score(y_test, y_pred))\n",
    "print(\"Classification report: \\n\", classification_report(y_test, y_pred))"
   ]
  },
  {
   "cell_type": "code",
   "execution_count": null,
   "id": "f3dbbeb4-8cf6-4246-a3ff-8ca5292ab7f2",
   "metadata": {},
   "outputs": [],
   "source": []
  },
  {
   "cell_type": "markdown",
   "id": "92e5dbef-2b14-4f4d-af5e-e0ee82f899cd",
   "metadata": {},
   "source": [
    "### TF-IDF Weighted Averaging of Embeddings\n",
    "* It gives more importance to rare but meaningful words."
   ]
  },
  {
   "cell_type": "code",
   "execution_count": 9,
   "id": "c46080ac-5177-4a6f-85bf-955cecee5426",
   "metadata": {},
   "outputs": [],
   "source": [
    "import numpy as np\n",
    "from sklearn.feature_extraction.text import TfidfVectorizer\n",
    "from nltk.tokenize import word_tokenize\n",
    "\n",
    "# 1. Fit TF-IDF Vectorizer\n",
    "tfidf = TfidfVectorizer()\n",
    "tfidf.fit(df[\"text\"])\n",
    "\n",
    "# 2. Get IDF scores as a dictionary\n",
    "idf_dict = dict(zip(tfidf.get_feature_names_out(), tfidf.idf_))\n",
    "# print(\"idf_dict: \", idf_dict)\n",
    "\n",
    "# 3. Function to get weighted average of GloVe embeddings\n",
    "def get_weighted_vector(text, glove_embeddings, idf_dict, embedding_dim=100):\n",
    "    words = word_tokenize(text.lower())\n",
    "    word_vectors = []\n",
    "\n",
    "    for word in words:\n",
    "        if word in glove_embeddings and word in idf_dict:\n",
    "            weight = idf_dict[word]\n",
    "            # print(\":::::: \", glove_embeddings[word] * weight)\n",
    "            word_vectors.append(glove_embeddings[word] * weight)\n",
    "\n",
    "    if not word_vectors:\n",
    "        return np.zeros(embedding_dim)\n",
    "    return np.mean(word_vectors, axis=0)\n",
    "\n",
    "# 4. Apply to all reviews\n",
    "df[\"vector\"] = df[\"text\"].apply(lambda x: get_weighted_vector(x, glove_embeddings, idf_dict))\n"
   ]
  },
  {
   "cell_type": "code",
   "execution_count": 10,
   "id": "e676e33d-0e9f-498a-8862-2c00f1d5a1e5",
   "metadata": {},
   "outputs": [
    {
     "name": "stdout",
     "output_type": "stream",
     "text": [
      "Accuracy:  0.739\n",
      "Classification report: \n",
      "               precision    recall  f1-score   support\n",
      "\n",
      "         neg       0.73      0.76      0.75       501\n",
      "         pos       0.75      0.72      0.73       499\n",
      "\n",
      "    accuracy                           0.74      1000\n",
      "   macro avg       0.74      0.74      0.74      1000\n",
      "weighted avg       0.74      0.74      0.74      1000\n",
      "\n"
     ]
    }
   ],
   "source": [
    "from sklearn.model_selection import train_test_split\n",
    "from sklearn.linear_model import LogisticRegression\n",
    "from sklearn.metrics import accuracy_score, classification_report\n",
    "\n",
    "x = np.stack(df[\"vector\"].values)\n",
    "y = df[\"label\"].values\n",
    "\n",
    "x_train, x_test, y_train, y_test = train_test_split(x, y, test_size=0.5, random_state=42)\n",
    "\n",
    "# Initiate the model\n",
    "model = LogisticRegression(max_iter=1000)\n",
    "model.fit(x_train, y_train)\n",
    "\n",
    "# # Predict and Evaluate\n",
    "y_pred = model.predict(x_test)\n",
    "\n",
    "print(\"Accuracy: \", accuracy_score(y_test, y_pred))\n",
    "print(\"Classification report: \\n\", classification_report(y_test, y_pred))"
   ]
  },
  {
   "cell_type": "code",
   "execution_count": null,
   "id": "eb2ea688-ce1f-4383-b7d8-3644627d6031",
   "metadata": {},
   "outputs": [],
   "source": []
  }
 ],
 "metadata": {
  "kernelspec": {
   "display_name": "Python 3 (ipykernel)",
   "language": "python",
   "name": "python3"
  },
  "language_info": {
   "codemirror_mode": {
    "name": "ipython",
    "version": 3
   },
   "file_extension": ".py",
   "mimetype": "text/x-python",
   "name": "python",
   "nbconvert_exporter": "python",
   "pygments_lexer": "ipython3",
   "version": "3.12.10"
  }
 },
 "nbformat": 4,
 "nbformat_minor": 5
}
