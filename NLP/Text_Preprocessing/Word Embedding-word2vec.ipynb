{
 "cells": [
  {
   "cell_type": "code",
   "execution_count": 5,
   "id": "f34ff111-abc2-4f45-a066-92d6312d95e7",
   "metadata": {},
   "outputs": [
    {
     "name": "stdout",
     "output_type": "stream",
     "text": [
      "Channels:\n",
      " - conda-forge\n",
      " - defaults\n",
      "Platform: linux-64\n",
      "doneecting package metadata (repodata.json): - \n",
      "doneing environment: | \n",
      "\n",
      "# All requested packages already installed.\n",
      "\n",
      "\n",
      "Note: you may need to restart the kernel to use updated packages.\n"
     ]
    }
   ],
   "source": [
    "conda install -c conda-forge gensim"
   ]
  },
  {
   "cell_type": "code",
   "execution_count": 8,
   "id": "7ce3fddf-9df0-4094-b651-b0979295451c",
   "metadata": {},
   "outputs": [
    {
     "name": "stdout",
     "output_type": "stream",
     "text": [
      "tokenized_sentences:  [['i', 'love', 'natural', 'language', 'processing'], ['word', 'embeddings', 'capture', 'semantic', 'meaning'], ['machine', 'learning', 'is', 'fun'], ['deep', 'learning', 'builds', 'powerful', 'models']]\n"
     ]
    }
   ],
   "source": [
    "from gensim.models import Word2Vec\n",
    "from nltk.tokenize import word_tokenize\n",
    "\n",
    "sentences = [\n",
    "    \"I love natural language processing\",\n",
    "    \"Word embeddings capture semantic meaning\",\n",
    "    \"Machine learning is fun\",\n",
    "    \"Deep learning builds powerful models\"\n",
    "]\n",
    "\n",
    "# Tokenize each sentence\n",
    "tokenized_sentences = [word_tokenize(sent.lower()) for sent in sentences]\n",
    "print(\"tokenized_sentences: \", tokenized_sentences)\n",
    "\n",
    "# Train Word2Vec model\n",
    "model = Word2Vec(sentences=tokenized_sentences, vector_size=100, window=5, min_count=1)"
   ]
  },
  {
   "cell_type": "code",
   "execution_count": null,
   "id": "dad7340b-121b-4b6d-8dd2-82845651608b",
   "metadata": {},
   "outputs": [],
   "source": []
  },
  {
   "cell_type": "code",
   "execution_count": null,
   "id": "4f79ef52-f976-4b3c-b771-da6ded44e77a",
   "metadata": {},
   "outputs": [],
   "source": []
  },
  {
   "cell_type": "markdown",
   "id": "a5d724ad-07d8-4c27-816c-1598d828137b",
   "metadata": {},
   "source": [
    "What each parameter means:\n",
    "\n",
    "Parameter                 Description\n",
    "\n",
    "1. vector_size=100        The length of each word vector (e.g., 100 dimensions)\n",
    "2. window=5               Looks at 5 words before and after a target word\n",
    "3. min_count=1            Ignores words with frequency less than 1\n",
    "4. sentences              The input tokenized data"
   ]
  },
  {
   "cell_type": "code",
   "execution_count": 10,
   "id": "31bfd176-4bf3-42d4-b000-7838113abfc5",
   "metadata": {},
   "outputs": [
    {
     "name": "stdout",
     "output_type": "stream",
     "text": [
      "[('builds', 0.21883945167064667), ('semantic', 0.21617142856121063), ('machine', 0.09310213476419449), ('word', 0.09291722625494003), ('meaning', 0.07963486760854721), ('powerful', 0.0628506988286972), ('deep', 0.054333992302417755), ('embeddings', 0.0270574688911438), ('processing', 0.016134677454829216), ('models', -0.01083916611969471)]\n"
     ]
    }
   ],
   "source": [
    "# Similar words to 'learning'\n",
    "print(model.wv.most_similar(\"learning\"))\n",
    "\n"
   ]
  },
  {
   "cell_type": "code",
   "execution_count": 12,
   "id": "8be31728-3b6c-41fd-b2c8-1487622bdae6",
   "metadata": {},
   "outputs": [
    {
     "name": "stdout",
     "output_type": "stream",
     "text": [
      "[-5.3622725e-04  2.3643136e-04  5.1033497e-03  9.0092728e-03\n",
      " -9.3029495e-03 -7.1168090e-03  6.4588725e-03  8.9729885e-03\n",
      " -5.0154282e-03 -3.7633716e-03  7.3805046e-03 -1.5334714e-03\n",
      " -4.5366134e-03  6.5540518e-03 -4.8601604e-03 -1.8160177e-03\n",
      "  2.8765798e-03  9.9187379e-04 -8.2852151e-03 -9.4488179e-03\n",
      "  7.3117660e-03  5.0702621e-03  6.7576934e-03  7.6286553e-04\n",
      "  6.3508903e-03 -3.4053659e-03 -9.4640139e-04  5.7685734e-03\n",
      " -7.5216377e-03 -3.9361035e-03 -7.5115822e-03 -9.3004224e-04\n",
      "  9.5381187e-03 -7.3191668e-03 -2.3337686e-03 -1.9377411e-03\n",
      "  8.0774371e-03 -5.9308959e-03  4.5162440e-05 -4.7537340e-03\n",
      " -9.6035507e-03  5.0072931e-03 -8.7595852e-03 -4.3918253e-03\n",
      " -3.5099984e-05 -2.9618145e-04 -7.6612402e-03  9.6147433e-03\n",
      "  4.9820580e-03  9.2331432e-03 -8.1579173e-03  4.4957981e-03\n",
      " -4.1370760e-03  8.2453608e-04  8.4986202e-03 -4.4621765e-03\n",
      "  4.5175003e-03 -6.7869602e-03 -3.5484887e-03  9.3985079e-03\n",
      " -1.5776526e-03  3.2137157e-04 -4.1406299e-03 -7.6826881e-03\n",
      " -1.5080082e-03  2.4697948e-03 -8.8802696e-04  5.5336617e-03\n",
      " -2.7429771e-03  2.2600652e-03  5.4557943e-03  8.3459532e-03\n",
      " -1.4537406e-03 -9.2081428e-03  4.3705525e-03  5.7178497e-04\n",
      "  7.4419081e-03 -8.1328274e-04 -2.6384138e-03 -8.7530091e-03\n",
      " -8.5655687e-04  2.8265631e-03  5.4014288e-03  7.0526563e-03\n",
      " -5.7031214e-03  1.8588197e-03  6.0888636e-03 -4.7980510e-03\n",
      " -3.1072604e-03  6.7976294e-03  1.6314756e-03  1.8991709e-04\n",
      "  3.4736372e-03  2.1777749e-04  9.6188262e-03  5.0606038e-03\n",
      " -8.9173904e-03 -7.0415605e-03  9.0145587e-04  6.3925339e-03]\n"
     ]
    }
   ],
   "source": [
    "# Vector for a word\n",
    "print(model.wv[\"learning\"])"
   ]
  },
  {
   "cell_type": "code",
   "execution_count": null,
   "id": "b0fa2c4d-88b3-4270-8c36-836d0855ea14",
   "metadata": {},
   "outputs": [],
   "source": []
  }
 ],
 "metadata": {
  "kernelspec": {
   "display_name": "Python 3 (ipykernel)",
   "language": "python",
   "name": "python3"
  },
  "language_info": {
   "codemirror_mode": {
    "name": "ipython",
    "version": 3
   },
   "file_extension": ".py",
   "mimetype": "text/x-python",
   "name": "python",
   "nbconvert_exporter": "python",
   "pygments_lexer": "ipython3",
   "version": "3.12.10"
  }
 },
 "nbformat": 4,
 "nbformat_minor": 5
}
