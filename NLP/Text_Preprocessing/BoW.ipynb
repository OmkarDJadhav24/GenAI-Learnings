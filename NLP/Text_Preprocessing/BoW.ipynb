{
 "cells": [
  {
   "cell_type": "code",
   "execution_count": 2,
   "id": "e7e4403e-257b-4298-8eb8-c8b72e96d2d9",
   "metadata": {},
   "outputs": [],
   "source": [
    "# !pip install scikit-learn\n",
    "# !pip install pandas"
   ]
  },
  {
   "cell_type": "code",
   "execution_count": 9,
   "id": "ec1ed3e8-aa4d-4518-8d6f-2a9b3f18606a",
   "metadata": {},
   "outputs": [],
   "source": [
    "from sklearn.feature_extraction.text import CountVectorizer\n",
    "import pandas as pd"
   ]
  },
  {
   "cell_type": "code",
   "execution_count": 14,
   "id": "cda91089-4bb6-4137-9020-4d544c563cf6",
   "metadata": {},
   "outputs": [
    {
     "name": "stdout",
     "output_type": "stream",
     "text": [
      "Vocabulary:  ['cat' 'dog' 'garden' 'mat' 'running' 'sleeping'] \n",
      "\n",
      "Bag of Words Representation after removing stop words:\n",
      "\n",
      "      cat  dog  garden  mat  running  sleeping\n",
      "doc1    1    0       0    1        0         1\n",
      "doc2    0    1       1    0        1         0\n"
     ]
    }
   ],
   "source": [
    "\n",
    "\n",
    "# Define the documents\n",
    "doc1 = \"The cat is sleeping on the mat.\"\n",
    "doc2 = \"The dog is running in the garden.\"\n",
    "\n",
    "# Create a CountVectorizer instance with stop words removed\n",
    "vectorizer = CountVectorizer(stop_words=\"english\")\n",
    "\n",
    "# Fit the vectorizer on the documents and transform them into a bag of words representation\n",
    "bag_of_words = vectorizer.fit_transform([doc1, doc2])\n",
    "\n",
    "# Convert the bag of words representation to a DataFrame for better visualization\n",
    "bow_df = pd.DataFrame(bag_of_words.toarray(), columns=vectorizer.get_feature_names_out(), index=['doc1', 'doc2'])\n",
    "\n",
    "# Print the vocabulary\n",
    "print(\"Vocabulary: \", vectorizer.get_feature_names_out(), \"\\n\")\n",
    "\n",
    "# Print the bag of words representation after removing stop words\n",
    "print(\"Bag of Words Representation after removing stop words:\\n\")\n",
    "print(bow_df)"
   ]
  },
  {
   "cell_type": "code",
   "execution_count": null,
   "id": "16428aa4-9298-41b9-9905-0cb68a943bc5",
   "metadata": {},
   "outputs": [],
   "source": []
  },
  {
   "cell_type": "code",
   "execution_count": null,
   "id": "85d3f4c1-31a4-4fd7-8183-afe6daf6e247",
   "metadata": {},
   "outputs": [],
   "source": []
  },
  {
   "cell_type": "code",
   "execution_count": null,
   "id": "5e1d51b4-7bad-4e73-a5aa-8a15a4892ee9",
   "metadata": {},
   "outputs": [],
   "source": []
  },
  {
   "cell_type": "code",
   "execution_count": null,
   "id": "9da9e7e0-a281-4264-8dbf-2b88a69c1c87",
   "metadata": {},
   "outputs": [],
   "source": []
  },
  {
   "cell_type": "code",
   "execution_count": null,
   "id": "66a63af7-7187-4d1b-a7f4-ee17300390d8",
   "metadata": {},
   "outputs": [],
   "source": []
  }
 ],
 "metadata": {
  "kernelspec": {
   "display_name": "Python 3 (ipykernel)",
   "language": "python",
   "name": "python3"
  },
  "language_info": {
   "codemirror_mode": {
    "name": "ipython",
    "version": 3
   },
   "file_extension": ".py",
   "mimetype": "text/x-python",
   "name": "python",
   "nbconvert_exporter": "python",
   "pygments_lexer": "ipython3",
   "version": "3.12.10"
  }
 },
 "nbformat": 4,
 "nbformat_minor": 5
}
