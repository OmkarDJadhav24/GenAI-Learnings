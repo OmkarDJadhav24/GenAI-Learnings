{
 "cells": [
  {
   "cell_type": "code",
   "execution_count": 2,
   "id": "3373ab89-4b53-4bf3-936f-d2c843956299",
   "metadata": {},
   "outputs": [
    {
     "data": {
      "application/vnd.jupyter.widget-view+json": {
       "model_id": "e90d59e4a7114070b70bc6830a251926",
       "version_major": 2,
       "version_minor": 0
      },
      "text/plain": [
       "VBox(children=(HTML(value='<center> <img\\nsrc=https://huggingface.co/front/assets/huggingface_logo-noborder.sv…"
      ]
     },
     "metadata": {},
     "output_type": "display_data"
    }
   ],
   "source": [
    "from huggingface_hub import notebook_login\n",
    "notebook_login()"
   ]
  },
  {
   "cell_type": "code",
   "execution_count": 3,
   "id": "c0f78fce-4d65-4aff-b259-f8f234f36a6f",
   "metadata": {},
   "outputs": [
    {
     "data": {
      "application/vnd.jupyter.widget-view+json": {
       "model_id": "f4840d25a3a048f581377f2e509fcf6e",
       "version_major": 2,
       "version_minor": 0
      },
      "text/plain": [
       "VBox(children=(HTML(value='<center> <img\\nsrc=https://huggingface.co/front/assets/huggingface_logo-noborder.sv…"
      ]
     },
     "metadata": {},
     "output_type": "display_data"
    }
   ],
   "source": [
    "from huggingface_hub import notebook_login\n",
    "notebook_login()"
   ]
  },
  {
   "cell_type": "code",
   "execution_count": 4,
   "id": "18dbd3aa-41e5-40c3-80c6-663c5cf551d3",
   "metadata": {},
   "outputs": [
    {
     "data": {
      "application/vnd.jupyter.widget-view+json": {
       "model_id": "146408ef7f24420eb7c1862837b72070",
       "version_major": 2,
       "version_minor": 0
      },
      "text/plain": [
       "README.md:   0%|          | 0.00/12.6k [00:00<?, ?B/s]"
      ]
     },
     "metadata": {},
     "output_type": "display_data"
    },
    {
     "data": {
      "application/vnd.jupyter.widget-view+json": {
       "model_id": "6efbfb4539874226a0f8ed37294fc209",
       "version_major": 2,
       "version_minor": 0
      },
      "text/plain": [
       "eli5_category.py:   0%|          | 0.00/4.17k [00:00<?, ?B/s]"
      ]
     },
     "metadata": {},
     "output_type": "display_data"
    },
    {
     "name": "stdin",
     "output_type": "stream",
     "text": [
      "The repository for eli5_category contains custom code which must be executed to correctly load the dataset. You can inspect the repository content at https://hf.co/datasets/eli5_category.\n",
      "You can avoid this prompt in future by passing the argument `trust_remote_code=True`.\n",
      "\n",
      "Do you wish to run the custom code? [y/N]  y\n"
     ]
    },
    {
     "data": {
      "application/vnd.jupyter.widget-view+json": {
       "model_id": "e82df5873c34486d971f12848ef0c0ef",
       "version_major": 2,
       "version_minor": 0
      },
      "text/plain": [
       "Downloading data:   0%|          | 0.00/62.3M [00:00<?, ?B/s]"
      ]
     },
     "metadata": {},
     "output_type": "display_data"
    },
    {
     "data": {
      "application/vnd.jupyter.widget-view+json": {
       "model_id": "f9a4767cc5d241da8b30cb955e26aafd",
       "version_major": 2,
       "version_minor": 0
      },
      "text/plain": [
       "Downloading data:   0%|          | 0.00/5.00M [00:00<?, ?B/s]"
      ]
     },
     "metadata": {},
     "output_type": "display_data"
    },
    {
     "data": {
      "application/vnd.jupyter.widget-view+json": {
       "model_id": "805e6eedd3584069bdbc6ed9f306b797",
       "version_major": 2,
       "version_minor": 0
      },
      "text/plain": [
       "Downloading data:   0%|          | 0.00/1.76M [00:00<?, ?B/s]"
      ]
     },
     "metadata": {},
     "output_type": "display_data"
    },
    {
     "data": {
      "application/vnd.jupyter.widget-view+json": {
       "model_id": "d3ec7e630c2b48a09e24359547b58fd8",
       "version_major": 2,
       "version_minor": 0
      },
      "text/plain": [
       "Downloading data:   0%|          | 0.00/3.85M [00:00<?, ?B/s]"
      ]
     },
     "metadata": {},
     "output_type": "display_data"
    },
    {
     "data": {
      "application/vnd.jupyter.widget-view+json": {
       "model_id": "dd0f0e5194dd49bfab44ba55b17145ef",
       "version_major": 2,
       "version_minor": 0
      },
      "text/plain": [
       "Generating train split:   0%|          | 0/91772 [00:00<?, ? examples/s]"
      ]
     },
     "metadata": {},
     "output_type": "display_data"
    },
    {
     "data": {
      "application/vnd.jupyter.widget-view+json": {
       "model_id": "24ca957765a54560a56599cfe562c0b4",
       "version_major": 2,
       "version_minor": 0
      },
      "text/plain": [
       "Generating validation1 split:   0%|          | 0/5446 [00:00<?, ? examples/s]"
      ]
     },
     "metadata": {},
     "output_type": "display_data"
    },
    {
     "data": {
      "application/vnd.jupyter.widget-view+json": {
       "model_id": "6104f8c2a0644a66b8f804ddf5b510ab",
       "version_major": 2,
       "version_minor": 0
      },
      "text/plain": [
       "Generating validation2 split:   0%|          | 0/2375 [00:00<?, ? examples/s]"
      ]
     },
     "metadata": {},
     "output_type": "display_data"
    },
    {
     "data": {
      "application/vnd.jupyter.widget-view+json": {
       "model_id": "48441fd41ed345e3a4965a175f801a8a",
       "version_major": 2,
       "version_minor": 0
      },
      "text/plain": [
       "Generating test split:   0%|          | 0/5411 [00:00<?, ? examples/s]"
      ]
     },
     "metadata": {},
     "output_type": "display_data"
    }
   ],
   "source": [
    "from datasets import load_dataset\n",
    "eli5 = load_dataset(\"eli5_category\", split=\"train[:5000]\")"
   ]
  },
  {
   "cell_type": "code",
   "execution_count": 5,
   "id": "3a6c640e-19ff-4b05-a623-25372fb507a7",
   "metadata": {},
   "outputs": [
    {
     "data": {
      "text/plain": [
       "{'q_id': '7d8ibn',\n",
       " 'title': 'How is it so difficult for video game publishers to detect cheating on PC?',\n",
       " 'selftext': \"Doesn't their code have digital signatures? Don't they have third party cheat drivers running concurrently? How are PC players able to defeat this and continue to ruin multiplayer games? Is their no practical way to prevent players from cheating in multiplayer? I could care less what folks do in single player but I'm having a hard time understanding how the information coming from a multiplayer client cannot be authenticated and validated and that the client runtime environment has not been currupted.\",\n",
       " 'category': 'Technology',\n",
       " 'subreddit': 'explainlikeimfive',\n",
       " 'answers': {'a_id': ['dpvuxuw', 'dpvvxre', 'dpw2hs4'],\n",
       "  'text': [\"The fundamental problem is that the user has physical control over their own PC and the only information the game manufacturer gets is whatever their PC sends. > Doesn't their code have digital signatures? Sure, and those can always be defeated someone with enough time and perseverance. Let's say the code is running on my PC. The first thing the code does is check to see if it's been modified, and refuse to run if its code doesn't match the signature. No problem, I just modify the code that detects whether it's been modified or not. The code uses the code's signature to encrypt all messages to the server? No problem, I just modify it so that there's another *unmodified* copy of the game installed and it encrypts messages using that signature instead. Basically any checks on the client side can be bypassed by a programmer who knows how to disassemble. It's only a matter of how long it will take or how tricky it will be.\",\n",
       "   \"Former game dev here, This is a bit out of my knowledge and experience, but I do know a couple bits that can explain how some of the cheating is happening. Multiplayer games are predictive - that is to say, when I start moving across your screen, it's because I issued commands from my client that I am moving. This goes to the server and is disseminated to all other clients. I start moving on my screen before the server even acknowledges it got the message. So your client knows who and where I am, and then it receives the command that I started moving forward. Your client will move my character forward indefinitely until it receives and update about my attitude - maybe I stopped or changed direction. The client will then apply this new command and make corrections to make sure it's consistent with the game world on the server. This is all very telling and an important insight. You can do things, and things can be done, out of sync of the server, authority isn't exclusive to the server, and consistency is a carrot dangled at the end of a stick. This sacrifice is made for performance. Games used to be made where the server was the ultimate authority and clients were only slaves, but latency was intractable. So because your client knows of the other players, who, where, and how they are, this information can be stolen from the running client. This would give a player an unfair advantage, a radar of where everyone else is. They know you're coming or where to find you. Hackers can also take advantage of the render pipeline and modify it. It could be as simple as set a surface to 100% transparency, or it may involve a sort of man in the middle attack where the API calls to the driver are intercepted and modified, allowing the hacker to see on the game screen any information about you available to him, such as player, position, and orientation. Needless to say, effort goes into preventing these sorts of hacks, but it's always a losers game. Any attempt to thwart these style hacks are on the hackers own machine, which they have ultimate control over. A persistent hacker will eventually subvert these defenses. Something like an MMO conserves computation and bandwidth by not transmitting to you the game state of the whole world, which is typically why players will suddenly appear from the ether in the far field. They didn't exist in your world until then. So at least there's that. And any logic where the client is the authority can be exploited. For example, in normal gameplay, if there's a latency hiccup, your client might inform the server you are somewhere else than it expected you to be - you turned when it thought you went straight, so the correction takes place on the server. This sort of logic can be exploited to bump you to all over a map. This sort of thing is going to be very game specific. Needless to say, we try to minimize how much of an authority a client is, where the server should always be the ultimate authority, but certain compromises may have to be made for performance. This sort of logic has undergone quite a bit of evolution and was not my expertise, I'm curious where it's at today. Some people are pathetic. They care about the hollow masturbatory sensation up in their taint of winning over noobs more than the challenge and excitement of the game, or the satisfaction of hard earning victory and advancement. They are boring, under developed, selfish, and anti-social individuals and a waste of the effort they put into their cheating, typically the type of guy who at 24 still can't grow a beard. And all you can do is jump servers to find someone worth playing with. And because that is your only solution, these twats bounce across servers and ruin the experience for as many people as possible. I, for one, cannot be bothered, and avoid multi-play with random strangers at all cost.\",\n",
       "   'I actually used to write memory editing based hacks for games like First Person Shooters, and a few MMOs. I\\'ve created aimbots, wallhacks, no spread, no recoil hacks, shooting people through walls, and many other interesting things. For some MMO\\'s, I\\'ve created speed movement hacks, teleportation hacks, super jump hacks, walk up walls/hills, etc. In one MMO, what was easily done was to tell the game you were \"swimming\" when outside of water. This essentially would turn off gravity and would allow you to \"swim\" through the air. It doesn\\'t have that significant of an advantage, but I have used it to \"fly\"/swim over bosses to the ends of high level instances to unlock treasure chests and such, without actually having to fight the bosses. I\\'ve also used the swim hack to gain access to unreleased/new areas, and fly over otherwise dangerous places. Disclaimer: In no instances have I sold any such programs for money, nor broken any laws. Broken Terms of Services, sure, but laws, no. I\\'ll try to focus strictly on the client-side of things. There are server side mechanisms in place, but often are not super robust, because it is very resource intense to track everything about a player, such as where they are aiming at any given second and regulate that. At the end of the day, the client handles a significant majority of the player info, depending on the type of game, and the server is trusting the client to send it accurate information. A lot of games do incorporate various client side mechanisms to detect unnatural memory changes, and in some cases it is effective, but usually only at a rudimentary level. It is impossible to give you a conclusive answer on how exactly certain mechanisms are circumvented, because it is totally situational and dependent upon the developer. A server side example: in many MMOs similar to WoW, in attempts to prevent movement hacks, the server may check your location every 5-10 seconds, sometimes longer, and check to see if you were able to move the distance that you did naturally. If it detected you moved unnaturally far in a period, it may switch you back to your previous location, and in many cases disconnect you. This for instance isn\\'t fool proof as the server must account for lag and other subtle variations. In some cases, I have found myself able to get away with a 15% speed increase without the server detecting it. Sometimes higher, and have used this to outrun and solo bosses very easily. It\\'s not perfect, but some advantage can come from it if done right. When a hack is being written, all the programmer is doing is spending time trying to understand how the game is handling and dealing with certain memory addresses. This frequently requires an understanding of assembly language, and an understanding of how to follow various instructions and changes through the assembly. In other words, it can be extremely complicated in some cases. As an example: some games may not have any mechanisms in place to prevent you from simply editing your coordinates and teleporting across the map. Whereas, some games may crash if you directly edit the coordinates, and instead may require you to edit the instruction that passes the number to the coordinate memory address. In some cases a hacker might have to completely rewrite the function which controls the players movement, which in doing so he can incorporate all sorts of nifty features, like controlling how fast he moves, passing through walls, jumping very high, etc. These are just examples. Technically speaking, pretty much ALL client side anti-cheat mechanisms can be circumvented if the hacker is willing to spend enough time studying how it works and how to get around it. A game developer might make modifying a certain aspect of the memory super difficult, and it might deter the hacker enough so that they don\\'t even bother.... but if the hacker does manage to get around it, the game developer has to figure out what they did, and then block that means. In many cases, once the hacker has figured out the primary anti-cheat mechanism surrounding certain memory regions, it can be trivial for them to get around any updates made to counter them. The only way to make the hacker truly have to start over, is to completely change that anti-cheat mechanism... which if you\\'re starting to catch on, can get VERY expensive for game developers. In many cases for hackers, it\\'s simply a whole lot of trial and error, game crashing, game rebooting, etc. Sleepless nights screwing around with memory addresses for fun seeing what sort of interesting things you can make the game do without crashing it. Many hackers do this for fun in their spare time, and game developers frequently have to spend tons of money to counteract it. It\\'s a never ending cycle. I used to just do it for fun. I would download games I didn\\'t even care about just to see what sort of fun stuff I could do with the memory. In the most general sense, all a hacker is, is someone who studies a mechanism enough to the point where they can manipulate it for their own purposes. It\\'s an engineering mindset. Most career hackers also typically have a somewhat advanced understanding of mid-high level mathematics as it is generally required for hacks such as aimbots and other related hacks.'],\n",
       "  'score': [13, 10, 7],\n",
       "  'text_urls': [[], [], []]},\n",
       " 'title_urls': ['url'],\n",
       " 'selftext_urls': ['url']}"
      ]
     },
     "execution_count": 5,
     "metadata": {},
     "output_type": "execute_result"
    }
   ],
   "source": [
    "eli5 = eli5.train_test_split(test_size=0.2)\n",
    "eli5[\"train\"][0]"
   ]
  },
  {
   "cell_type": "code",
   "execution_count": null,
   "id": "2386419c-28c5-45ac-97ab-7bc39f6c903f",
   "metadata": {},
   "outputs": [],
   "source": []
  }
 ],
 "metadata": {
  "kernelspec": {
   "display_name": "Python 3 (ipykernel)",
   "language": "python",
   "name": "python3"
  },
  "language_info": {
   "codemirror_mode": {
    "name": "ipython",
    "version": 3
   },
   "file_extension": ".py",
   "mimetype": "text/x-python",
   "name": "python",
   "nbconvert_exporter": "python",
   "pygments_lexer": "ipython3",
   "version": "3.11.13"
  }
 },
 "nbformat": 4,
 "nbformat_minor": 5
}
